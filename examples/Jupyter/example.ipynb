{
 "cells": [
  {
   "cell_type": "markdown",
   "id": "4df7bbeb",
   "metadata": {},
   "source": [
    "# Instructions\n",
    "\n",
    "To run this example, you should create a python virtual environment and run `pip install ./examples/Jupyter/requirements.txt`. This will install Jupyter.\n",
    "\n",
    "Finally, run `jupyter nbconvert --to html example.ipynb` to render the HTML document."
   ]
  },
  {
   "cell_type": "code",
   "execution_count": null,
   "id": "e3de59c7",
   "metadata": {},
   "outputs": [
    {
     "data": {
      "text/html": [
       "\n",
       "<link rel=\"stylesheet\" href=\"https://cdn.jsdelivr.net/npm/gene-tooltips@latest/dist/gene-tooltips.css\">\n",
       "\n",
       "<script src=\"https://cdn.jsdelivr.net/npm/d3@7\"></script>\n",
       "<script src=\"https://cdn.jsdelivr.net/npm/ideogram@1.53.0/dist/js/ideogram.min.js\"></script>\n",
       "<script src=\"https://cdn.jsdelivr.net/npm/gene-tooltips@latest/dist/gene-tooltips.global.js\"></script>\n",
       "\n",
       "<script>\n",
       "document.addEventListener('DOMContentLoaded', function() {\n",
       "    console.log('✅ GeneTooltip library loaded and ready.');\n",
       "    if (window.GeneTooltip) {\n",
       "        console.log('Initializing GeneTooltip...');\n",
       "        GeneTooltip.init({\n",
       "            selector: '.gene-tooltip',\n",
       "            theme: 'light'\n",
       "        });\n",
       "    } else {\n",
       "        console.warn('GeneTooltip not found on window.');\n",
       "    }\n",
       "});\n",
       "</script>\n"
      ],
      "text/plain": [
       "<IPython.core.display.HTML object>"
      ]
     },
     "metadata": {},
     "output_type": "display_data"
    }
   ],
   "source": [
    "from IPython.display import display, HTML\n",
    "\n",
    "# You can pin to a specific version instead of \"latest\"\n",
    "LIB_VERSION = \"latest\"\n",
    "\n",
    "# Use doubled curly braces inside JS to avoid f-string syntax errors\n",
    "html_setup = f\"\"\"\n",
    "<link rel=\"stylesheet\" href=\"https://cdn.jsdelivr.net/npm/gene-tooltips@{LIB_VERSION}/dist/gene-tooltips.css\">\n",
    "\n",
    "<script src=\"https://cdn.jsdelivr.net/npm/d3@7\"></script>\n",
    "<script src=\"https://cdn.jsdelivr.net/npm/ideogram@1.53.0/dist/js/ideogram.min.js\"></script>\n",
    "<script src=\"https://cdn.jsdelivr.net/npm/gene-tooltips@{LIB_VERSION}/dist/gene-tooltips.global.js\"></script>\n",
    "\n",
    "<script>\n",
    "document.addEventListener('DOMContentLoaded', function() {{\n",
    "    console.log('GeneTooltip library loaded and ready.');\n",
    "    if (window.GeneTooltip) {{\n",
    "        console.log('Initializing GeneTooltip...');\n",
    "        GeneTooltip.init({{\n",
    "            selector: '.gene-tooltip',\n",
    "            theme: 'light'\n",
    "        }});\n",
    "    }} else {{\n",
    "        console.warn('GeneTooltip not found on window.');\n",
    "    }}\n",
    "}});\n",
    "</script>\n",
    "\"\"\"\n",
    "\n",
    "display(HTML(html_setup))\n"
   ]
  },
  {
   "cell_type": "markdown",
   "id": "6409d97a",
   "metadata": {},
   "source": [
    "### Analysis Results\n",
    "\n",
    "The primary gene of interest is **<span class=\"gene-tooltip\" data-species=\"human\">BRCA1</span>**. We also investigated related genes in mouse models, such as **<span class=\"gene-tooltip\" data-species=\"10090\">Brca1</span>**."
   ]
  },
  {
   "cell_type": "code",
   "execution_count": null,
   "id": "0811d495",
   "metadata": {},
   "outputs": [],
   "source": [
    "%%javascript\n",
    "require(['gene-tooltips'], function() {\n",
    "    GeneTooltip.init({\n",
    "        selector: '.gene-tooltip',\n",
    "        theme: 'light'\n",
    "    });\n",
    "});\n"
   ]
  }
 ],
 "metadata": {
  "language_info": {
   "name": "python"
  }
 },
 "nbformat": 4,
 "nbformat_minor": 5
}
